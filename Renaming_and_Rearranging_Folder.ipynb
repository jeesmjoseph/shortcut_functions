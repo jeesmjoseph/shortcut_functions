{
  "nbformat": 4,
  "nbformat_minor": 0,
  "metadata": {
    "colab": {
      "name": "Renaming and Rearranging Folder.ipynb",
      "provenance": [],
      "mount_file_id": "1wvDcAeyF2TUIwrJzsAGZYpOwnWcGNVBw",
      "authorship_tag": "ABX9TyO/S58JZuVc4YeRuyTbOUFc"
    },
    "kernelspec": {
      "name": "python3",
      "display_name": "Python 3"
    },
    "language_info": {
      "name": "python"
    },
    "accelerator": "GPU"
  },
  "cells": [
    {
      "cell_type": "code",
      "execution_count": 10,
      "metadata": {
        "id": "EkpNC_LmBBIl"
      },
      "outputs": [],
      "source": [
        "import glob\n",
        "import csv\n",
        "import os\n",
        "from PIL import Image"
      ]
    },
    {
      "cell_type": "markdown",
      "source": [
        "Renaming and Rearranging files in Folder"
      ],
      "metadata": {
        "id": "_1uHMjv2Bkoo"
      }
    },
    {
      "cell_type": "code",
      "source": [
        "def rearrange(folder,x):\n",
        "  for count , filename in enumerate(os.listdir(folder)) :\n",
        "    dat = f\"{x}{str(count)}.jpg\"\n",
        "    src = f\"{folder}/{filename}\"\n",
        "    dest = f\"{folder}/{dat}\"\n",
        "    os.rename(src,dest)"
      ],
      "metadata": {
        "id": "QtTcYVnBB7bn"
      },
      "execution_count": 11,
      "outputs": []
    },
    {
      "cell_type": "code",
      "source": [
        "folder = input(\"Enter folder location : \")\n",
        "x = input(\"Enter keyword : \")\n",
        "rearrange(folder,x)"
      ],
      "metadata": {
        "colab": {
          "base_uri": "https://localhost:8080/"
        },
        "id": "nKlXoEkhB1wp",
        "outputId": "c12588cc-c863-4a08-b80a-1afabdaa1f9d"
      },
      "execution_count": 12,
      "outputs": [
        {
          "name": "stdout",
          "output_type": "stream",
          "text": [
            "Enter folder location : /content/drive/MyDrive/Colab_Notebooks/New_assignment/NoMask\n",
            "Enter keyword : NoMask\n"
          ]
        }
      ]
    }
  ]
}