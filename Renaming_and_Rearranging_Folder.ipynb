{
  "nbformat": 4,
  "nbformat_minor": 0,
  "metadata": {
    "colab": {
      "name": "Renaming and Rearranging Folder.ipynb",
      "provenance": [],
      "mount_file_id": "1wvDcAeyF2TUIwrJzsAGZYpOwnWcGNVBw",
      "authorship_tag": "ABX9TyMHTD1DpKzw5tCApJ95WYQh"
    },
    "kernelspec": {
      "name": "python3",
      "display_name": "Python 3"
    },
    "language_info": {
      "name": "python"
    },
    "accelerator": "GPU"
  },
  "cells": [
    {
      "cell_type": "code",
      "execution_count": 13,
      "metadata": {
        "id": "EkpNC_LmBBIl"
      },
      "outputs": [],
      "source": [
        "import os"
      ]
    },
    {
      "cell_type": "markdown",
      "source": [
        "Renaming and Rearranging files in Folder"
      ],
      "metadata": {
        "id": "_1uHMjv2Bkoo"
      }
    },
    {
      "cell_type": "code",
      "source": [
        "def rearrange(folder,x):\n",
        "  for count , filename in enumerate(os.listdir(folder)) :\n",
        "    dat = f\"{x}{str(count)}.jpg\"\n",
        "    src = f\"{folder}/{filename}\"\n",
        "    dest = f\"{folder}/{dat}\"\n",
        "    os.rename(src,dest)"
      ],
      "metadata": {
        "id": "QtTcYVnBB7bn"
      },
      "execution_count": 14,
      "outputs": []
    },
    {
      "cell_type": "code",
      "source": [
        "folder = input(\"Enter folder location : \")\n",
        "x = input(\"Enter keyword : \")\n",
        "rearrange(folder,x)"
      ],
      "metadata": {
        "id": "nKlXoEkhB1wp"
      },
      "execution_count": null,
      "outputs": []
    }
  ]
}